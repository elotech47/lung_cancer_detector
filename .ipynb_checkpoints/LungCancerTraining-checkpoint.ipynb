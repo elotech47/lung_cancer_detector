{
 "cells": [
  {
   "cell_type": "code",
   "execution_count": 2,
   "metadata": {},
   "outputs": [
    {
     "name": "stdout",
     "output_type": "stream",
     "text": [
      "Collecting imutils\n",
      "  Downloading imutils-0.5.4.tar.gz (17 kB)\n",
      "Building wheels for collected packages: imutils\n",
      "  Building wheel for imutils (setup.py) ... \u001b[?25ldone\n",
      "\u001b[?25h  Created wheel for imutils: filename=imutils-0.5.4-py3-none-any.whl size=25860 sha256=0b6e4ecabd347d33bc23d561cef4e2f51e2ebac2e1ed34a7a3f39706d4a7ab05\n",
      "  Stored in directory: /home/ubuntu/.cache/pip/wheels/f5/0c/3a/61b992f7aa85de40f339e6d4970d91dddb103dd0ad6c5d58f2\n",
      "Successfully built imutils\n",
      "Installing collected packages: imutils\n",
      "Successfully installed imutils-0.5.4\n",
      "\u001b[33mWARNING: You are using pip version 21.1.2; however, version 21.1.3 is available.\n",
      "You should consider upgrading via the '/home/ubuntu/anaconda3/envs/tensorflow2_p36/bin/python -m pip install --upgrade pip' command.\u001b[0m\n"
     ]
    }
   ],
   "source": [
    "!pip install imutils"
   ]
  },
  {
   "cell_type": "code",
   "execution_count": 3,
   "metadata": {},
   "outputs": [],
   "source": [
    "from tensorflow.keras.preprocessing.image import ImageDataGenerator\n",
    "from tensorflow.keras.applications import VGG16\n",
    "from tensorflow.keras.layers import AveragePooling2D\n",
    "from tensorflow.keras.layers import Dropout\n",
    "from tensorflow.keras.layers import Flatten\n",
    "from tensorflow.keras.layers import Dense\n",
    "from tensorflow.keras.layers import Input\n",
    "from tensorflow.keras.models import Model\n",
    "from tensorflow.keras.optimizers import Adam\n",
    "from tensorflow.keras.utils import to_categorical\n",
    "from sklearn.preprocessing import LabelBinarizer\n",
    "from sklearn.model_selection import train_test_split\n",
    "from sklearn.metrics import classification_report\n",
    "from sklearn.metrics import confusion_matrix\n",
    "from imutils import paths\n",
    "import matplotlib.pyplot as plt\n",
    "import numpy as np\n",
    "import argparse\n",
    "import cv2\n",
    "import os\n"
   ]
  },
  {
   "cell_type": "code",
   "execution_count": 8,
   "metadata": {},
   "outputs": [],
   "source": [
    "INIT_LR = 1e-6\n",
    "EPOCHS = 25\n",
    "BS = 8"
   ]
  },
  {
   "cell_type": "code",
   "execution_count": 9,
   "metadata": {},
   "outputs": [
    {
     "name": "stdout",
     "output_type": "stream",
     "text": [
      "[INFO] Loading images...\n"
     ]
    }
   ],
   "source": [
    "print(\"[INFO] Loading images...\")\n",
    "imagePaths = list(paths.list_images(\"dataset\"))\n",
    "data = []\n",
    "labels = []"
   ]
  },
  {
   "cell_type": "code",
   "execution_count": 10,
   "metadata": {},
   "outputs": [
    {
     "name": "stdout",
     "output_type": "stream",
     "text": [
      "['dataset/positives/JPCNN015.png', 'dataset/positives/JPCNN056.png', 'dataset/positives/JPCNN092.png', 'dataset/positives/JPCNN024.png', 'dataset/positives/JPCNN048.png', 'dataset/positives/JPCNN040.png', 'dataset/positives/JPCNN046.png', 'dataset/positives/JPCNN009.png', 'dataset/positives/JPCNN017.png', 'dataset/positives/JPCNN030.png', 'dataset/positives/JPCNN020.png', 'dataset/positives/JPCNN042.png', 'dataset/positives/JPCNN082.png', 'dataset/positives/JPCNN018.png', 'dataset/positives/JPCNN021.png', 'dataset/positives/JPCNN049.png', 'dataset/positives/JPCNN058.png', 'dataset/positives/JPCNN003.png', 'dataset/positives/JPCNN022.png', 'dataset/positives/JPCNN062.png', 'dataset/positives/JPCNN087.png', 'dataset/positives/JPCNN016.png', 'dataset/positives/JPCNN060.png', 'dataset/positives/JPCNN023.png', 'dataset/positives/JPCNN080.png', 'dataset/positives/JPCNN044.png', 'dataset/positives/JPCNN078.png', 'dataset/positives/JPCNN052.png', 'dataset/positives/JPCNN001.png', 'dataset/positives/JPCNN090.png', 'dataset/positives/JPCNN034.png', 'dataset/positives/JPCNN007.png', 'dataset/positives/JPCNN086.png', 'dataset/positives/JPCNN070.png', 'dataset/positives/JPCNN037.png', 'dataset/positives/JPCNN093.png', 'dataset/positives/JPCNN073.png', 'dataset/positives/JPCNN074.png', 'dataset/positives/JPCNN026.png', 'dataset/positives/JPCNN088.png', 'dataset/positives/JPCNN072.png', 'dataset/positives/JPCNN050.png', 'dataset/positives/JPCNN047.png', 'dataset/positives/JPCNN029.png', 'dataset/positives/JPCNN076.png', 'dataset/positives/JPCNN008.png', 'dataset/positives/JPCNN085.png', 'dataset/positives/JPCNN084.png', 'dataset/positives/JPCNN055.png', 'dataset/positives/JPCNN079.png', 'dataset/positives/JPCNN061.png', 'dataset/positives/JPCNN068.png', 'dataset/positives/JPCNN036.png', 'dataset/positives/JPCNN028.png', 'dataset/positives/JPCNN038.png', 'dataset/positives/JPCNN091.png', 'dataset/positives/JPCNN027.png', 'dataset/positives/JPCNN002.png', 'dataset/positives/JPCNN025.png', 'dataset/positives/JPCNN032.png', 'dataset/positives/JPCNN033.png', 'dataset/positives/JPCNN077.png', 'dataset/positives/JPCNN014.png', 'dataset/positives/JPCNN019.png', 'dataset/positives/JPCNN075.png', 'dataset/positives/JPCNN065.png', 'dataset/positives/JPCNN005.png', 'dataset/positives/JPCNN004.png', 'dataset/positives/JPCNN013.png', 'dataset/positives/JPCNN039.png', 'dataset/positives/JPCNN089.png', 'dataset/positives/JPCNN064.png', 'dataset/positives/JPCNN059.png', 'dataset/positives/JPCNN045.png', 'dataset/positives/JPCNN063.png', 'dataset/positives/JPCNN051.png', 'dataset/positives/JPCNN011.png', 'dataset/positives/JPCNN054.png', 'dataset/positives/JPCNN043.png', 'dataset/positives/JPCNN067.png', 'dataset/positives/JPCNN083.png', 'dataset/positives/JPCNN006.png', 'dataset/positives/JPCNN035.png', 'dataset/positives/JPCNN010.png', 'dataset/positives/JPCNN012.png', 'dataset/positives/JPCNN057.png', 'dataset/positives/JPCNN041.png', 'dataset/positives/JPCNN053.png', 'dataset/positives/JPCNN031.png', 'dataset/positives/JPCNN066.png', 'dataset/positives/JPCNN069.png', 'dataset/positives/JPCNN081.png', 'dataset/positives/JPCNN071.png', 'dataset/negatives/JPCLN055.png', 'dataset/negatives/JPCLN009.png', 'dataset/negatives/JPCLN006.png', 'dataset/negatives/JPCLN002.png', 'dataset/negatives/JPCLN154.png', 'dataset/negatives/JPCLN022.png', 'dataset/negatives/JPCLN089.png', 'dataset/negatives/JPCLN108.png', 'dataset/negatives/JPCLN048.png', 'dataset/negatives/JPCLN119.png', 'dataset/negatives/JPCLN007.png', 'dataset/negatives/JPCLN094.png', 'dataset/negatives/JPCLN020.png', 'dataset/negatives/JPCLN083.png', 'dataset/negatives/JPCLN103.png', 'dataset/negatives/JPCLN049.png', 'dataset/negatives/JPCLN093.png', 'dataset/negatives/JPCLN123.png', 'dataset/negatives/JPCLN030.png', 'dataset/negatives/JPCLN153.png', 'dataset/negatives/JPCLN038.png', 'dataset/negatives/JPCLN011.png', 'dataset/negatives/JPCLN102.png', 'dataset/negatives/JPCLN060.png', 'dataset/negatives/JPCLN067.png', 'dataset/negatives/JPCLN036.png', 'dataset/negatives/JPCLN012.png', 'dataset/negatives/JPCLN069.png', 'dataset/negatives/JPCLN139.png', 'dataset/negatives/JPCLN034.png', 'dataset/negatives/JPCLN097.png', 'dataset/negatives/JPCLN081.png', 'dataset/negatives/JPCLN085.png', 'dataset/negatives/JPCLN045.png', 'dataset/negatives/JPCLN075.png', 'dataset/negatives/JPCLN052.png', 'dataset/negatives/JPCLN072.png', 'dataset/negatives/JPCLN004.png', 'dataset/negatives/JPCLN099.png', 'dataset/negatives/JPCLN100.png', 'dataset/negatives/JPCLN047.png', 'dataset/negatives/JPCLN090.png', 'dataset/negatives/JPCLN074.png', 'dataset/negatives/JPCLN044.png', 'dataset/negatives/JPCLN129.png', 'dataset/negatives/JPCLN054.png', 'dataset/negatives/JPCLN121.png', 'dataset/negatives/JPCLN084.png', 'dataset/negatives/JPCLN107.png', 'dataset/negatives/JPCLN079.png', 'dataset/negatives/JPCLN032.png', 'dataset/negatives/JPCLN105.png', 'dataset/negatives/JPCLN063.png', 'dataset/negatives/JPCLN095.png', 'dataset/negatives/JPCLN064.png', 'dataset/negatives/JPCLN109.png', 'dataset/negatives/JPCLN117.png', 'dataset/negatives/JPCLN115.png', 'dataset/negatives/JPCLN035.png', 'dataset/negatives/JPCLN087.png', 'dataset/negatives/JPCLN091.png', 'dataset/negatives/JPCLN071.png', 'dataset/negatives/JPCLN137.png', 'dataset/negatives/JPCLN130.png', 'dataset/negatives/JPCLN088.png', 'dataset/negatives/JPCLN037.png', 'dataset/negatives/JPCLN128.png', 'dataset/negatives/JPCLN124.png', 'dataset/negatives/JPCLN026.png', 'dataset/negatives/JPCLN025.png', 'dataset/negatives/JPCLN073.png', 'dataset/negatives/JPCLN106.png', 'dataset/negatives/JPCLN144.png', 'dataset/negatives/JPCLN076.png', 'dataset/negatives/JPCLN042.png', 'dataset/negatives/JPCLN150.png', 'dataset/negatives/JPCLN127.png', 'dataset/negatives/JPCLN016.png', 'dataset/negatives/JPCLN149.png', 'dataset/negatives/JPCLN143.png', 'dataset/negatives/JPCLN131.png', 'dataset/negatives/JPCLN082.png', 'dataset/negatives/JPCLN135.png', 'dataset/negatives/JPCLN027.png', 'dataset/negatives/JPCLN151.png', 'dataset/negatives/JPCLN021.png', 'dataset/negatives/JPCLN013.png', 'dataset/negatives/JPCLN058.png', 'dataset/negatives/JPCLN104.png', 'dataset/negatives/JPCLN039.png', 'dataset/negatives/JPCLN152.png', 'dataset/negatives/JPCLN010.png', 'dataset/negatives/JPCLN070.png', 'dataset/negatives/JPCLN050.png', 'dataset/negatives/JPCLN133.png', 'dataset/negatives/JPCLN101.png', 'dataset/negatives/JPCLN122.png', 'dataset/negatives/JPCLN023.png', 'dataset/negatives/JPCLN018.png', 'dataset/negatives/JPCLN120.png', 'dataset/negatives/JPCLN056.png', 'dataset/negatives/JPCLN040.png', 'dataset/negatives/JPCLN141.png', 'dataset/negatives/JPCLN008.png', 'dataset/negatives/JPCLN092.png', 'dataset/negatives/JPCLN114.png', 'dataset/negatives/JPCLN116.png', 'dataset/negatives/JPCLN061.png', 'dataset/negatives/JPCLN134.png', 'dataset/negatives/JPCLN098.png', 'dataset/negatives/JPCLN146.png', 'dataset/negatives/JPCLN142.png', 'dataset/negatives/JPCLN005.png', 'dataset/negatives/JPCLN078.png', 'dataset/negatives/JPCLN041.png', 'dataset/negatives/JPCLN033.png', 'dataset/negatives/JPCLN053.png', 'dataset/negatives/JPCLN003.png', 'dataset/negatives/JPCLN015.png', 'dataset/negatives/JPCLN059.png', 'dataset/negatives/JPCLN062.png', 'dataset/negatives/JPCLN077.png', 'dataset/negatives/JPCLN110.png', 'dataset/negatives/JPCLN017.png', 'dataset/negatives/JPCLN138.png', 'dataset/negatives/JPCLN145.png', 'dataset/negatives/JPCLN051.png', 'dataset/negatives/JPCLN086.png', 'dataset/negatives/JPCLN014.png', 'dataset/negatives/JPCLN096.png', 'dataset/negatives/JPCLN118.png', 'dataset/negatives/JPCLN031.png', 'dataset/negatives/JPCLN132.png', 'dataset/negatives/JPCLN125.png', 'dataset/negatives/JPCLN148.png', 'dataset/negatives/JPCLN068.png', 'dataset/negatives/JPCLN111.png', 'dataset/negatives/JPCLN112.png', 'dataset/negatives/JPCLN029.png', 'dataset/negatives/JPCLN019.png', 'dataset/negatives/JPCLN126.png', 'dataset/negatives/JPCLN140.png', 'dataset/negatives/JPCLN001.png', 'dataset/negatives/JPCLN066.png', 'dataset/negatives/JPCLN028.png', 'dataset/negatives/JPCLN043.png', 'dataset/negatives/JPCLN080.png', 'dataset/negatives/JPCLN065.png', 'dataset/negatives/JPCLN147.png', 'dataset/negatives/JPCLN024.png', 'dataset/negatives/JPCLN057.png', 'dataset/negatives/JPCLN113.png', 'dataset/negatives/JPCLN046.png', 'dataset/negatives/JPCLN136.png']\n"
     ]
    }
   ],
   "source": [
    "print(imagePaths)"
   ]
  },
  {
   "cell_type": "code",
   "execution_count": 12,
   "metadata": {},
   "outputs": [],
   "source": [
    "for imagePath in imagePaths:\n",
    "    label = imagePath.split(os.path.sep)[-2]\n",
    "    \n",
    "    image = cv2.imread(imagePath)\n",
    "    image = cv2.cvtColor(image, cv2.COLOR_BGR2RGB)\n",
    "    image = cv2.resize(image, (224,224))\n",
    "    \n",
    "    data.append(image)\n",
    "    labels.append(label)"
   ]
  },
  {
   "cell_type": "code",
   "execution_count": null,
   "metadata": {},
   "outputs": [],
   "source": [
    "data = np.array(data) / 255.0\n",
    "labels = np.array(labels)"
   ]
  }
 ],
 "metadata": {
  "interpreter": {
   "hash": "731b33f2943533062956dab77f90d12b07d1879696fd3dc5b595ddb273a00308"
  },
  "kernelspec": {
   "display_name": "Python 3",
   "language": "python",
   "name": "python3"
  },
  "language_info": {
   "codemirror_mode": {
    "name": "ipython",
    "version": 3
   },
   "file_extension": ".py",
   "mimetype": "text/x-python",
   "name": "python",
   "nbconvert_exporter": "python",
   "pygments_lexer": "ipython3",
   "version": "3.6.13"
  }
 },
 "nbformat": 4,
 "nbformat_minor": 2
}
